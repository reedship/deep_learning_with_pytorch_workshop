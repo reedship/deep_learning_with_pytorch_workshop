{
 "cells": [
  {
   "cell_type": "markdown",
   "id": "294f1320-9b9c-43f5-ba1e-82076de9552c",
   "metadata": {},
   "source": [
    "# Activity: Performing Data Preparation\n",
    "\n",
    "In this activity, we will prepare a dataset containing a list of songs, each with several attributes that help determine the year they were released. \n",
    "\n",
    "## Prompt\n",
    "\n",
    "[CSV source](https://archive.ics.uci.edu/ml/datasets/YearPredictionMSD)\n",
    "\n",
    "You work at a music record company and your boss wants to uncover the details that characterize records from different time periods, which is why they have put together a dataset that contains data on 515,345 records, with release years ranging from 1922 to 2011. They have tasked you with preparing the dataset so that it is ready to be fed to a neural network. Perform the following steps to complete this activity:\t\n",
    "1. Import the required libraries.\n",
    "2. Using pandas, load the .csv file.\n",
    "3. Verify whether any qualitative data is present in the dataset.\n",
    "4. Check for missing values.You can also add an additional sum() function to get the sum of missing values in the entire dataset, without discriminating by column.\n",
    "5. Check for outliers.\n",
    "6. Separate the features from the target data.\n",
    "7. Rescale the data using the standardization methodology.\n",
    "8. Split the data into training, validation, and test sets."
   ]
  },
  {
   "cell_type": "code",
   "execution_count": 6,
   "id": "f6ef5c02-b59a-45b8-86b8-7bff770dd2d9",
   "metadata": {},
   "outputs": [],
   "source": [
    "import pandas as pd"
   ]
  },
  {
   "cell_type": "code",
   "execution_count": 9,
   "id": "bf947fcf-be99-4a6c-a390-4b032a8459c6",
   "metadata": {},
   "outputs": [
    {
     "data": {
      "text/plain": [
       "<bound method NDFrame.head of         2001  49.94357  21.47114  73.07750   8.74861  -17.40628  -13.09905  \\\n",
       "0       2001  48.73215  18.42930  70.32679  12.94636  -10.32437  -24.83777   \n",
       "1       2001  50.95714  31.85602  55.81851  13.41693   -6.57898  -18.54940   \n",
       "2       2001  48.24750  -1.89837  36.29772   2.58776    0.97170  -26.21683   \n",
       "3       2001  50.97020  42.20998  67.09964   8.46791  -15.85279  -16.81409   \n",
       "4       2001  50.54767   0.31568  92.35066  22.38696  -25.51870  -19.04928   \n",
       "...      ...       ...       ...       ...       ...        ...        ...   \n",
       "515339  2006  51.28467  45.88068  22.19582  -5.53319   -3.61835  -16.36914   \n",
       "515340  2006  49.87870  37.93125  18.65987  -3.63581  -27.75665  -18.52988   \n",
       "515341  2006  45.12852  12.65758 -38.72018   8.80882  -29.29985   -2.28706   \n",
       "515342  2006  44.16614  32.38368  -3.34971  -2.49165  -19.59278  -18.67098   \n",
       "515343  2005  51.85726  59.11655  26.39436  -5.46030  -20.69012  -19.95528   \n",
       "\n",
       "        -25.01202  -12.23257   7.83089  ...  13.01620  -54.40548   58.99367  \\\n",
       "0         8.76630   -0.92019  18.76548  ...   5.66812  -19.68073   33.04964   \n",
       "1        -3.27872   -2.35035  16.07017  ...   3.03800   26.05866  -50.92779   \n",
       "2         5.05097  -10.34124   3.55005  ...  34.57337 -171.70734  -16.96705   \n",
       "3       -12.48207   -9.37636  12.63699  ...   9.92661  -55.95724   64.92712   \n",
       "4        20.67345   -5.19943   3.63566  ...   6.59753  -50.69577   26.02574   \n",
       "...           ...        ...       ...  ...       ...        ...        ...   \n",
       "515339    2.12652    5.18160  -8.66890  ...   4.81440   -3.75991  -30.92584   \n",
       "515340    7.76108    3.56109  -2.50351  ...  32.38589  -32.75535  -61.05473   \n",
       "515341  -18.40424  -22.28726  -4.52429  ... -18.73598  -71.15954 -123.98443   \n",
       "515342    8.78428    4.02039 -12.01230  ...  67.16763  282.77624   -4.63677   \n",
       "515343   -6.72771    2.29590  10.31018  ... -11.50511  -69.18291   60.58456   \n",
       "\n",
       "         15.37344   1.11144  -23.08793   68.40795  -1.82223  -27.46348  \\\n",
       "0        42.87836  -9.90378  -32.22788   70.49388  12.04941   58.43453   \n",
       "1        10.93792  -0.07568   43.20130 -115.00698  -0.05859   39.67068   \n",
       "2       -46.67617 -12.51516   82.58061  -72.08993   9.90558  199.62971   \n",
       "3       -17.72522  -1.49237   -7.50035   51.76631   7.88713   55.66926   \n",
       "4        18.94430  -0.33730    6.09352   35.18381   5.00283  -11.02257   \n",
       "...           ...       ...        ...        ...       ...        ...   \n",
       "515339   26.33968  -5.03390   21.86037 -142.29410   3.42901  -41.14721   \n",
       "515340   56.65182  15.29965   95.88193  -10.63242  12.96552   92.11633   \n",
       "515341  121.26989  10.89629   34.62409 -248.61020  -6.07171   53.96319   \n",
       "515342  144.00125  21.62652  -29.72432   71.47198  20.32240   14.83107   \n",
       "515343   28.64599  -4.39620  -64.56491  -45.61012  -5.51512   32.35602   \n",
       "\n",
       "         2.26327  \n",
       "0       26.92061  \n",
       "1       -0.66345  \n",
       "2       18.85382  \n",
       "3       28.74903  \n",
       "4        0.02263  \n",
       "...          ...  \n",
       "515339 -15.46052  \n",
       "515340  10.88815  \n",
       "515341  -8.09364  \n",
       "515342  39.74909  \n",
       "515343  12.17352  \n",
       "\n",
       "[515344 rows x 91 columns]>"
      ]
     },
     "execution_count": 9,
     "metadata": {},
     "output_type": "execute_result"
    }
   ],
   "source": [
    "# Read the dataset into memory\n",
    "data = pd.read_csv(\"YearPredictionMSD.txt\", sep=\",\")\n",
    "data.head"
   ]
  },
  {
   "cell_type": "code",
   "execution_count": 25,
   "id": "4e4890b9-a363-47bc-aaa9-4051065e773c",
   "metadata": {},
   "outputs": [
    {
     "data": {
      "text/plain": [
       "[]"
      ]
     },
     "execution_count": 25,
     "metadata": {},
     "output_type": "execute_result"
    }
   ],
   "source": [
    "# check for categorical features in our data set\n",
    "cols = data.columns\n",
    "num_cols = data._get_numeric_data().columns\n",
    "list(set(cols) - set(num_cols))"
   ]
  },
  {
   "cell_type": "markdown",
   "id": "b5df920c-9596-4f1e-9b92-67750360302d",
   "metadata": {},
   "source": [
    "It's empty so I'm guessing we are good?"
   ]
  },
  {
   "cell_type": "markdown",
   "id": "307fa8f9-2542-403b-bcc8-59eb873f52af",
   "metadata": {},
   "source": [
    "How many null values do we have?"
   ]
  },
  {
   "cell_type": "code",
   "execution_count": 26,
   "id": "36515205-7771-4cdd-8f6d-c44c97739846",
   "metadata": {},
   "outputs": [
    {
     "data": {
      "text/plain": [
       "np.int64(0)"
      ]
     },
     "execution_count": 26,
     "metadata": {},
     "output_type": "execute_result"
    }
   ],
   "source": [
    "data.isnull().sum().sum()"
   ]
  },
  {
   "cell_type": "code",
   "execution_count": 24,
   "id": "55bc6c72-69b4-47d1-820a-e975c7f6740d",
   "metadata": {},
   "outputs": [
    {
     "name": "stdout",
     "output_type": "stream",
     "text": [
      "{'2001': '0.000', '49.94357': '0.010', '21.47114': '0.033', '73.07750': '0.034', '8.74861': '0.349', '-17.40628': '0.196', '-13.09905': '0.883', '-25.01202': '0.558', '-12.23257': '0.997', '7.83089': '0.806', '-2.46783': '1.000', '3.32136': '1.000', '-2.31521': '0.973', '10.20556': '0.015', '611.10913': '0.017', '951.08960': '0.016', '698.11428': '0.016', '408.98485': '0.014', '383.70912': '0.016', '326.51512': '0.013', '238.11327': '0.017', '251.42414': '0.014', '187.17351': '0.014', '100.42652': '0.016', '179.19498': '0.014', '-8.41558': '0.019', '-317.87038': '0.017', '95.86266': '0.020', '48.10259': '0.021', '-95.66303': '0.018', '-18.06215': '0.016', '1.96984': '0.020', '34.42438': '0.021', '11.72670': '0.020', '1.36790': '0.021', '7.79444': '0.035', '-0.36994': '0.016', '-133.67852': '0.020', '-83.26165': '0.016', '-37.29765': '0.031', '73.04667': '0.017', '-37.36684': '0.020', '-3.13853': '0.017', '-24.21531': '0.042', '-13.23066': '0.034', '15.93809': '0.034', '-18.60478': '0.026', '82.15479': '0.016', '240.57980': '0.016', '-10.29407': '0.025', '31.58431': '0.018', '-25.38187': '0.020', '-3.90772': '0.016', '13.29258': '0.019', '41.55060': '0.021', '-7.26272': '0.037', '-21.00863': '0.017', '105.50848': '0.015', '64.29856': '0.015', '26.08481': '0.015', '-44.59110': '0.021', '-8.30657': '0.021', '7.93706': '0.030', '-10.73660': '0.036', '-95.44766': '0.024', '-82.03307': '0.019', '-35.59194': '0.021', '4.69525': '0.020', '70.95626': '0.019', '28.09139': '0.015', '6.02015': '0.041', '-37.13767': '0.019', '-41.12450': '0.018', '-8.40816': '0.019', '7.19877': '0.028', '-8.60176': '0.036', '-5.90857': '0.095', '-12.32437': '0.018', '14.68734': '0.016', '-54.32125': '0.027', '40.14786': '0.016', '13.01620': '0.022', '-54.40548': '0.028', '58.99367': '0.016', '15.37344': '0.017', '1.11144': '0.298', '-23.08793': '0.018', '68.40795': '0.020', '-1.82223': '0.523', '-27.46348': '0.018', '2.26327': '0.091'}\n"
     ]
    }
   ],
   "source": [
    "# Check dataset for outliers.\n",
    "outliers = {}\n",
    "# iterate over the data and collect information on the deviation from the mean\n",
    "for i in range(data.shape[1]):\n",
    "    min_t = data[data.columns[1]].mean() - (3 * data[data.columns[i]].std())\n",
    "    max_t = data[data.columns[i]].mean() + (3 * data[data.columns[i]].std())\n",
    "    count = 0\n",
    "    for j in data[data.columns[i]]:\n",
    "        if j < min_t or j > max_t:\n",
    "            count += 1\n",
    "    percent = count / data.shape[0]\n",
    "    outliers[data.columns[i]] = \"%.3f\" % percent\n",
    "print(outliers)"
   ]
  },
  {
   "cell_type": "markdown",
   "id": "302b6869-21a7-4153-a801-a1adc71f68fb",
   "metadata": {},
   "source": [
    "Now that we've checked for outliers, the data for those is really minimal so this data is fine to continue. Now we need to seperate the features from the target"
   ]
  },
  {
   "cell_type": "code",
   "execution_count": 15,
   "id": "3836ca9f-6a81-4aae-ab1c-512449cd01a3",
   "metadata": {},
   "outputs": [],
   "source": [
    "# seems like the release year is the first column once again, \n",
    "# so we can use the same methodoly as before\n",
    "x = data.iloc[:,1:] #everything at and after the first index\n",
    "y = data.iloc[:, 0]"
   ]
  },
  {
   "cell_type": "code",
   "execution_count": 27,
   "id": "c99776af-b080-4cc0-a57a-8f28753bc4af",
   "metadata": {},
   "outputs": [],
   "source": [
    "train_end = int(len(x) * 0.6)\n",
    "dev_end = int(len(x) * 0.8)\n",
    "\n",
    "x_shuffle = x.sample(frac=1, random_state=0)\n",
    "y_shuffle = y.sample(frac=1, random_state=0)\n",
    "\n",
    "x_train = x_shuffle.iloc[:train_end,:]\n",
    "y_train = y_shuffle.iloc[:train_end]\n",
    "x_dev = x_shuffle.iloc[train_end:dev_end,:]\n",
    "y_dev = y_shuffle.iloc[train_end:dev_end]\n",
    "x_test = x_shuffle.iloc[dev_end:,:]\n",
    "y_test = y_shuffle.iloc[dev_end:] "
   ]
  },
  {
   "cell_type": "code",
   "execution_count": 28,
   "id": "1a8183f9-d10d-44d5-9d29-0e418cfc6642",
   "metadata": {},
   "outputs": [
    {
     "name": "stdout",
     "output_type": "stream",
     "text": [
      "(309206, 90) (309206,)\n",
      "(103069, 90) (103069,)\n",
      "(103069, 90) (103069,)\n"
     ]
    }
   ],
   "source": [
    "print(x_train.shape, y_train.shape)\n",
    "print(x_dev.shape, y_dev.shape)\n",
    "print(x_test.shape, y_test.shape)"
   ]
  },
  {
   "cell_type": "markdown",
   "id": "79b10ae5-708e-42ae-b6f1-eff9b6532e65",
   "metadata": {},
   "source": [
    "Seems like I did this correctly, though i did accidentally have `x_shuffle` used when assigning y_train and that took me a couple minutes to find.\n",
    "Luckily printing the shape made it pretty obvious what I did wrong."
   ]
  }
 ],
 "metadata": {
  "kernelspec": {
   "display_name": "Python 3 (ipykernel)",
   "language": "python",
   "name": "python3"
  },
  "language_info": {
   "codemirror_mode": {
    "name": "ipython",
    "version": 3
   },
   "file_extension": ".py",
   "mimetype": "text/x-python",
   "name": "python",
   "nbconvert_exporter": "python",
   "pygments_lexer": "ipython3",
   "version": "3.12.4"
  }
 },
 "nbformat": 4,
 "nbformat_minor": 5
}

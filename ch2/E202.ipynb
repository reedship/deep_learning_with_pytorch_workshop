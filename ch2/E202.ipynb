{
 "cells": [
  {
   "cell_type": "markdown",
   "id": "9ca7e732-3955-451e-8941-7e6f428e540d",
   "metadata": {},
   "source": [
    "# Exercise 2-02\n",
    "\n",
    "## Clean data and finding outliers in the dataset \n",
    "\n",
    "Exercise 2-01 did not contain any programming"
   ]
  },
  {
   "cell_type": "markdown",
   "id": "9ff794c7-a84d-4ed1-a256-fa4f0a3f2df6",
   "metadata": {},
   "source": [
    "We are going to be using the appliances energy prediction dataset located here: https://archive.ics.uci.edu/static/public/374/appliances+energy+prediction.zip"
   ]
  },
  {
   "cell_type": "code",
   "execution_count": 1,
   "id": "c9a28143-4c18-4deb-bf3d-281b089e2b18",
   "metadata": {},
   "outputs": [],
   "source": [
    "import pandas as pd"
   ]
  },
  {
   "cell_type": "markdown",
   "id": "1a03902e-9c6d-495e-b233-b4325d2b51ac",
   "metadata": {},
   "source": [
    "Read the csv into memory"
   ]
  },
  {
   "cell_type": "code",
   "execution_count": 4,
   "id": "c8e87547-00eb-46d7-8c8b-c02519b6176c",
   "metadata": {},
   "outputs": [
    {
     "name": "stdout",
     "output_type": "stream",
     "text": [
      "(19735, 28)\n"
     ]
    }
   ],
   "source": [
    "data = pd.read_csv(\"energydata_complete.csv\")\n",
    "# we don't need every column, the 'date' column is useless for our use case\n",
    "data = data.drop(columns=[\"date\"])\n",
    "print(data.shape)"
   ]
  },
  {
   "cell_type": "code",
   "execution_count": 5,
   "id": "e9d8a287-6890-445d-ac57-79fb4134284a",
   "metadata": {},
   "outputs": [
    {
     "name": "stdout",
     "output_type": "stream",
     "text": [
      "<bound method NDFrame.head of        Appliances  lights         T1       RH_1         T2       RH_2  \\\n",
      "0              60      30  19.890000  47.596667  19.200000  44.790000   \n",
      "1              60      30  19.890000  46.693333  19.200000  44.722500   \n",
      "2              50      30  19.890000  46.300000  19.200000  44.626667   \n",
      "3              50      40  19.890000  46.066667  19.200000  44.590000   \n",
      "4              60      40  19.890000  46.333333  19.200000  44.530000   \n",
      "...           ...     ...        ...        ...        ...        ...   \n",
      "19730         100       0  25.566667  46.560000  25.890000  42.025714   \n",
      "19731          90       0  25.500000  46.500000  25.754000  42.080000   \n",
      "19732         270      10  25.500000  46.596667  25.628571  42.768571   \n",
      "19733         420      10  25.500000  46.990000  25.414000  43.036000   \n",
      "19734         430      10  25.500000  46.600000  25.264286  42.971429   \n",
      "\n",
      "              T3       RH_3         T4       RH_4  ...         T9     RH_9  \\\n",
      "0      19.790000  44.730000  19.000000  45.566667  ...  17.033333  45.5300   \n",
      "1      19.790000  44.790000  19.000000  45.992500  ...  17.066667  45.5600   \n",
      "2      19.790000  44.933333  18.926667  45.890000  ...  17.000000  45.5000   \n",
      "3      19.790000  45.000000  18.890000  45.723333  ...  17.000000  45.4000   \n",
      "4      19.790000  45.000000  18.890000  45.530000  ...  17.000000  45.4000   \n",
      "...          ...        ...        ...        ...  ...        ...      ...   \n",
      "19730  27.200000  41.163333  24.700000  45.590000  ...  23.200000  46.7900   \n",
      "19731  27.133333  41.223333  24.700000  45.590000  ...  23.200000  46.7900   \n",
      "19732  27.050000  41.690000  24.700000  45.730000  ...  23.200000  46.7900   \n",
      "19733  26.890000  41.290000  24.700000  45.790000  ...  23.200000  46.8175   \n",
      "19734  26.823333  41.156667  24.700000  45.963333  ...  23.200000  46.8450   \n",
      "\n",
      "           T_out  Press_mm_hg     RH_out  Windspeed  Visibility  Tdewpoint  \\\n",
      "0       6.600000        733.5  92.000000   7.000000   63.000000   5.300000   \n",
      "1       6.483333        733.6  92.000000   6.666667   59.166667   5.200000   \n",
      "2       6.366667        733.7  92.000000   6.333333   55.333333   5.100000   \n",
      "3       6.250000        733.8  92.000000   6.000000   51.500000   5.000000   \n",
      "4       6.133333        733.9  92.000000   5.666667   47.666667   4.900000   \n",
      "...          ...          ...        ...        ...         ...        ...   \n",
      "19730  22.733333        755.2  55.666667   3.333333   23.666667  13.333333   \n",
      "19731  22.600000        755.2  56.000000   3.500000   24.500000  13.300000   \n",
      "19732  22.466667        755.2  56.333333   3.666667   25.333333  13.266667   \n",
      "19733  22.333333        755.2  56.666667   3.833333   26.166667  13.233333   \n",
      "19734  22.200000        755.2  57.000000   4.000000   27.000000  13.200000   \n",
      "\n",
      "             rv1        rv2  \n",
      "0      13.275433  13.275433  \n",
      "1      18.606195  18.606195  \n",
      "2      28.642668  28.642668  \n",
      "3      45.410389  45.410389  \n",
      "4      10.084097  10.084097  \n",
      "...          ...        ...  \n",
      "19730  43.096812  43.096812  \n",
      "19731  49.282940  49.282940  \n",
      "19732  29.199117  29.199117  \n",
      "19733   6.322784   6.322784  \n",
      "19734  34.118851  34.118851  \n",
      "\n",
      "[19735 rows x 28 columns]>\n"
     ]
    }
   ],
   "source": [
    "print(data.head)"
   ]
  },
  {
   "cell_type": "code",
   "execution_count": 14,
   "id": "603292bb-d924-4db0-9571-1634104e70a2",
   "metadata": {},
   "outputs": [
    {
     "data": {
      "text/plain": [
       "[]"
      ]
     },
     "execution_count": 14,
     "metadata": {},
     "output_type": "execute_result"
    }
   ],
   "source": [
    "# check for categorical features in our data set\n",
    "https://archive.ics.uci.edu/static/public/203/yearpredictionmsd.zip"
   ]
  },
  {
   "cell_type": "markdown",
   "id": "e46ee251-3b22-4f1d-b12c-2d65cf87d088",
   "metadata": {},
   "source": [
    "Since the resulting list is empty, this tells us that there are no categorical features to deal with.\n",
    "\n",
    "* Note to self: what the hell are 'categorical' features?"
   ]
  },
  {
   "cell_type": "code",
   "execution_count": 16,
   "id": "19343333-8be5-49e7-8da2-9a8b6fe497f3",
   "metadata": {},
   "outputs": [
    {
     "data": {
      "text/plain": [
       "Appliances     0\n",
       "lights         0\n",
       "T1             0\n",
       "RH_1           0\n",
       "T2             0\n",
       "RH_2           0\n",
       "T3             0\n",
       "RH_3           0\n",
       "T4             0\n",
       "RH_4           0\n",
       "T5             0\n",
       "RH_5           0\n",
       "T6             0\n",
       "RH_6           0\n",
       "T7             0\n",
       "RH_7           0\n",
       "T8             0\n",
       "RH_8           0\n",
       "T9             0\n",
       "RH_9           0\n",
       "T_out          0\n",
       "Press_mm_hg    0\n",
       "RH_out         0\n",
       "Windspeed      0\n",
       "Visibility     0\n",
       "Tdewpoint      0\n",
       "rv1            0\n",
       "rv2            0\n",
       "dtype: int64"
      ]
     },
     "execution_count": 16,
     "metadata": {},
     "output_type": "execute_result"
    }
   ],
   "source": [
    "# check if there are missing values in any of the columns\n",
    "data.isnull().sum()\n",
    "# this counts how many null values we have per column"
   ]
  },
  {
   "cell_type": "markdown",
   "id": "28126953-cf63-4fca-93bf-3f765c5f0bbe",
   "metadata": {},
   "source": [
    "Since they are all zero, we're good!"
   ]
  },
  {
   "cell_type": "markdown",
   "id": "36c18cba-2d7f-4148-9cbf-9768a2a42309",
   "metadata": {},
   "source": [
    "We are going to use three standard deviations as the measure to detect any outliers for all the features in the dataset."
   ]
  },
  {
   "cell_type": "code",
   "execution_count": 20,
   "id": "f96a58a3-00c9-483b-8279-219e87d62982",
   "metadata": {},
   "outputs": [
    {
     "data": {
      "text/plain": [
       "{'Appliances': '0.027',\n",
       " 'lights': '0.033',\n",
       " 'T1': '0.000',\n",
       " 'RH_1': '0.005',\n",
       " 'T2': '0.010',\n",
       " 'RH_2': '0.002',\n",
       " 'T3': '0.003',\n",
       " 'RH_3': '0.001',\n",
       " 'T4': '0.000',\n",
       " 'RH_4': '0.000',\n",
       " 'T5': '0.001',\n",
       " 'RH_5': '0.029',\n",
       " 'T6': '0.005',\n",
       " 'RH_6': '0.000',\n",
       " 'T7': '0.000',\n",
       " 'RH_7': '0.001',\n",
       " 'T8': '0.000',\n",
       " 'RH_8': '0.000',\n",
       " 'T9': '0.000',\n",
       " 'RH_9': '0.000',\n",
       " 'T_out': '0.005',\n",
       " 'Press_mm_hg': '0.000',\n",
       " 'RH_out': '0.000',\n",
       " 'Windspeed': '0.005',\n",
       " 'Visibility': '0.000',\n",
       " 'Tdewpoint': '0.000',\n",
       " 'rv1': '0.000',\n",
       " 'rv2': '0.000'}"
      ]
     },
     "execution_count": 20,
     "metadata": {},
     "output_type": "execute_result"
    }
   ],
   "source": [
    "outliers = {}\n",
    "for i in range(data.shape[1]):\n",
    "    min_t = data[data.columns[1]].mean() - (3 * data[data.columns[i]].std())\n",
    "    max_t = data[data.columns[i]].mean() + (3 * data[data.columns[i]].std())\n",
    "    count = 0\n",
    "    for j in data[data.columns[i]]:\n",
    "        if j < min_t or j > max_t:\n",
    "            count += 1\n",
    "    percentage = count / data.shape[0]\n",
    "    outliers[data.columns[i]] = \"%.3f\" % percentage\n",
    "outliers"
   ]
  }
 ],
 "metadata": {
  "kernelspec": {
   "display_name": "Python 3 (ipykernel)",
   "language": "python",
   "name": "python3"
  },
  "language_info": {
   "codemirror_mode": {
    "name": "ipython",
    "version": 3
   },
   "file_extension": ".py",
   "mimetype": "text/x-python",
   "name": "python",
   "nbconvert_exporter": "python",
   "pygments_lexer": "ipython3",
   "version": "3.12.4"
  }
 },
 "nbformat": 4,
 "nbformat_minor": 5
}

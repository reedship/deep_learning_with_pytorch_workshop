{
 "cells": [
  {
   "cell_type": "markdown",
   "id": "9ca7e732-3955-451e-8941-7e6f428e540d",
   "metadata": {},
   "source": [
    "# Exercise 2-02\n",
    "\n",
    "Exercise 2-01 did not contain any programming"
   ]
  }
 ],
 "metadata": {
  "kernelspec": {
   "display_name": "Python 3 (ipykernel)",
   "language": "python",
   "name": "python3"
  },
  "language_info": {
   "codemirror_mode": {
    "name": "ipython",
    "version": 3
   },
   "file_extension": ".py",
   "mimetype": "text/x-python",
   "name": "python",
   "nbconvert_exporter": "python",
   "pygments_lexer": "ipython3",
   "version": "3.12.4"
  }
 },
 "nbformat": 4,
 "nbformat_minor": 5
}

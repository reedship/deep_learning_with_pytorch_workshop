{
 "cells": [
  {
   "cell_type": "markdown",
   "id": "22cb9985-7e23-491c-b88a-f072452b9c00",
   "metadata": {},
   "source": [
    "# Building a Deep Neural Network using Pytorch\n",
    "\n",
    "in this exercise, we use the pytorch library to define the architecture of a deep neural network of four layers, which will be trained with the dataset from `A201.ipynb`."
   ]
  },
  {
   "cell_type": "code",
   "execution_count": 2,
   "id": "89c1df92-8415-4177-a984-bf41e8401149",
   "metadata": {},
   "outputs": [
    {
     "name": "stdout",
     "output_type": "stream",
     "text": [
      "{'2001': '0.000', '49.94357': '0.010', '21.47114': '0.033', '73.07750': '0.034', '8.74861': '0.349', '-17.40628': '0.196', '-13.09905': '0.883', '-25.01202': '0.558', '-12.23257': '0.997', '7.83089': '0.806', '-2.46783': '1.000', '3.32136': '1.000', '-2.31521': '0.973', '10.20556': '0.015', '611.10913': '0.017', '951.08960': '0.016', '698.11428': '0.016', '408.98485': '0.014', '383.70912': '0.016', '326.51512': '0.013', '238.11327': '0.017', '251.42414': '0.014', '187.17351': '0.014', '100.42652': '0.016', '179.19498': '0.014', '-8.41558': '0.019', '-317.87038': '0.017', '95.86266': '0.020', '48.10259': '0.021', '-95.66303': '0.018', '-18.06215': '0.016', '1.96984': '0.020', '34.42438': '0.021', '11.72670': '0.020', '1.36790': '0.021', '7.79444': '0.035', '-0.36994': '0.016', '-133.67852': '0.020', '-83.26165': '0.016', '-37.29765': '0.031', '73.04667': '0.017', '-37.36684': '0.020', '-3.13853': '0.017', '-24.21531': '0.042', '-13.23066': '0.034', '15.93809': '0.034', '-18.60478': '0.026', '82.15479': '0.016', '240.57980': '0.016', '-10.29407': '0.025', '31.58431': '0.018', '-25.38187': '0.020', '-3.90772': '0.016', '13.29258': '0.019', '41.55060': '0.021', '-7.26272': '0.037', '-21.00863': '0.017', '105.50848': '0.015', '64.29856': '0.015', '26.08481': '0.015', '-44.59110': '0.021', '-8.30657': '0.021', '7.93706': '0.030', '-10.73660': '0.036', '-95.44766': '0.024', '-82.03307': '0.019', '-35.59194': '0.021', '4.69525': '0.020', '70.95626': '0.019', '28.09139': '0.015', '6.02015': '0.041', '-37.13767': '0.019', '-41.12450': '0.018', '-8.40816': '0.019', '7.19877': '0.028', '-8.60176': '0.036', '-5.90857': '0.095', '-12.32437': '0.018', '14.68734': '0.016', '-54.32125': '0.027', '40.14786': '0.016', '13.01620': '0.022', '-54.40548': '0.028', '58.99367': '0.016', '15.37344': '0.017', '1.11144': '0.298', '-23.08793': '0.018', '68.40795': '0.020', '-1.82223': '0.523', '-27.46348': '0.018', '2.26327': '0.091'}\n",
      "(309206, 90) (309206,)\n",
      "(103069, 90) (103069,)\n",
      "(103069, 90) (103069,)\n"
     ]
    }
   ],
   "source": [
    "%run \"A201.ipynb\""
   ]
  },
  {
   "cell_type": "code",
   "execution_count": 3,
   "id": "ba17cd67-3f3f-465d-a446-3d396d781adb",
   "metadata": {},
   "outputs": [
    {
     "data": {
      "text/plain": [
       "<torch._C.Generator at 0x10d56e0d0>"
      ]
     },
     "execution_count": 3,
     "metadata": {},
     "output_type": "execute_result"
    }
   ],
   "source": [
    "import torch\n",
    "import torch.nn as nn\n",
    "\n",
    "torch.manual_seed(0) # setting a manual seed for reproducability"
   ]
  },
  {
   "cell_type": "markdown",
   "id": "9236371a-dd51-43fc-b9bf-6f220ff56bc1",
   "metadata": {},
   "source": [
    "Seperate the feature columns from the target for each of the sets created in the previous exercise.\n",
    "\n",
    "Additionally, convert the final DataFrame into tensors."
   ]
  },
  {
   "cell_type": "code",
   "execution_count": 4,
   "id": "aa7e87cf-eaf5-40ef-b90a-4f83b1666de5",
   "metadata": {},
   "outputs": [],
   "source": [
    "x_train = torch.tensor(x_train.values).float()\n",
    "y_train = torch.tensor(y_train.values).float()\n",
    "x_dev = torch.tensor(x_dev.values).float()\n",
    "y_dev = torch.tensor(y_dev.values).float()\n",
    "x_test = torch.tensor(x_test.values).float()\n",
    "y_test = torch.tensor(y_test.values).float()"
   ]
  },
  {
   "cell_type": "markdown",
   "id": "caec593a-986a-46c7-8010-6b378fa8656b",
   "metadata": {},
   "source": [
    "Define the network architecture using the `sequential()` container. Make sure to create a four-lay network.\n",
    "\n",
    "Use `ReLU` activation functions for the first three layers and leave the last layer without an activation function, considering the fact that we are dealing with a regression problem."
   ]
  },
  {
   "cell_type": "code",
   "execution_count": 5,
   "id": "5ae0b986-d789-4d6e-b656-4e4a039f58ba",
   "metadata": {},
   "outputs": [],
   "source": [
    "model = nn.Sequential(\n",
    "    nn.Linear(x_train.shape[1], 100),\n",
    "    nn.ReLU(),\n",
    "    nn.Linear(100,50),\n",
    "    nn.ReLU(),\n",
    "    nn.Linear(50,25),\n",
    "    nn.ReLU(),\n",
    "    nn.Linear(25,1)\n",
    ")"
   ]
  },
  {
   "cell_type": "code",
   "execution_count": 6,
   "id": "50433e23-63bf-48e2-a04b-bd011b0b9f36",
   "metadata": {},
   "outputs": [
    {
     "name": "stdout",
     "output_type": "stream",
     "text": [
      "0 3971233.25\n",
      "100 403162.25\n",
      "200 212070.09375\n",
      "300 81098.625\n",
      "400 48558.23046875\n",
      "500 36449.55859375\n",
      "600 28153.859375\n",
      "700 23057.18359375\n",
      "800 20041.0390625\n",
      "900 18064.681640625\n",
      "1000 16954.78125\n",
      "1100 16900.259765625\n",
      "1200 15350.42578125\n",
      "1300 14920.140625\n",
      "1400 14582.23828125\n",
      "1500 14205.2587890625\n",
      "1600 13885.4267578125\n",
      "1700 13647.4375\n",
      "1800 13507.62890625\n",
      "1900 13617.1044921875\n",
      "2000 13270.8427734375\n",
      "2100 12918.494140625\n",
      "2200 12781.8359375\n",
      "2300 12733.2685546875\n",
      "2400 12795.8505859375\n",
      "2500 12667.39453125\n",
      "2600 12494.7119140625\n",
      "2700 12247.4287109375\n",
      "2800 12124.111328125\n",
      "2900 11858.40625\n"
     ]
    }
   ],
   "source": [
    "# Define the loss function as the MSE\n",
    "loss_function = torch.nn.MSELoss()\n",
    "\n",
    "# Define the optimizer as the Adam optimizer\n",
    "optimizer = torch.optim.Adam(model.parameters(), lr=0.001)\n",
    "\n",
    "# use a for loop to train the network over the training data for 1000 steps\n",
    "for i in range(3000):\n",
    "    y_pred = model(x_train).squeeze()\n",
    "    loss = loss_function(y_pred, y_train)\n",
    "    optimizer.zero_grad()\n",
    "    loss.backward()\n",
    "    optimizer.step()\n",
    "    if i%100 == 0:\n",
    "        print(i, loss.item())"
   ]
  },
  {
   "cell_type": "code",
   "execution_count": 9,
   "id": "1c62407c-d1fc-45af-945a-a3a3beee68de",
   "metadata": {},
   "outputs": [
    {
     "name": "stdout",
     "output_type": "stream",
     "text": [
      "Ground Truth: 2001.0 Prediction: 2060.04150390625\n"
     ]
    }
   ],
   "source": [
    "pred = model(x_test[0])\n",
    "print(\"Ground Truth:\", y_test[0].item(),\n",
    "      \"Prediction:\", pred.item())"
   ]
  }
 ],
 "metadata": {
  "kernelspec": {
   "display_name": "Python 3 (ipykernel)",
   "language": "python",
   "name": "python3"
  },
  "language_info": {
   "codemirror_mode": {
    "name": "ipython",
    "version": 3
   },
   "file_extension": ".py",
   "mimetype": "text/x-python",
   "name": "python",
   "nbconvert_exporter": "python",
   "pygments_lexer": "ipython3",
   "version": "3.12.4"
  }
 },
 "nbformat": 4,
 "nbformat_minor": 5
}

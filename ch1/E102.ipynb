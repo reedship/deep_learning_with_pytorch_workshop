{
 "cells": [
  {
   "cell_type": "markdown",
   "id": "c1edb720-4228-4bf7-a23f-59696d2fbc91",
   "metadata": {},
   "source": [
    "# Defining a single layer architecture"
   ]
  },
  {
   "cell_type": "code",
   "execution_count": 1,
   "id": "25b855c4-35f3-411e-befc-0b721b7763b9",
   "metadata": {},
   "outputs": [],
   "source": [
    "# import torch as well as the nn module\n",
    "import torch\n",
    "import torch.nn as nn"
   ]
  },
  {
   "cell_type": "code",
   "execution_count": 3,
   "id": "85a1f0af-4138-448e-bfcc-38abb0df82fc",
   "metadata": {},
   "outputs": [],
   "source": [
    "# declare variables\n",
    "input_units = 10\n",
    "output_units = 1"
   ]
  },
  {
   "cell_type": "code",
   "execution_count": 5,
   "id": "e06635e2-d4e8-4327-821e-df20cdb5926b",
   "metadata": {},
   "outputs": [],
   "source": [
    "# using the sequential() container, define a single layer network and store it in model\n",
    "model = nn.Sequential(nn.Linear(input_units, output_units), nn.Sigmoid())"
   ]
  },
  {
   "cell_type": "code",
   "execution_count": 6,
   "id": "ea4db12a-659c-44a0-8743-1c63fff5d89b",
   "metadata": {},
   "outputs": [
    {
     "name": "stdout",
     "output_type": "stream",
     "text": [
      "Sequential(\n",
      "  (0): Linear(in_features=10, out_features=1, bias=True)\n",
      "  (1): Sigmoid()\n",
      ")\n"
     ]
    }
   ],
   "source": [
    "print(model)"
   ]
  },
  {
   "cell_type": "code",
   "execution_count": 7,
   "id": "5fcd27ea-9d2c-482b-8514-5c68ea913134",
   "metadata": {},
   "outputs": [],
   "source": [
    "# define a loss function\n",
    "loss_funct = nn.MSELoss()"
   ]
  },
  {
   "cell_type": "code",
   "execution_count": 8,
   "id": "dbf6c178-d52e-4424-86bf-fb3ffd422565",
   "metadata": {},
   "outputs": [
    {
     "name": "stdout",
     "output_type": "stream",
     "text": [
      "MSELoss()\n"
     ]
    }
   ],
   "source": [
    "print(loss_funct)"
   ]
  },
  {
   "cell_type": "code",
   "execution_count": 10,
   "id": "4b045dcd-f696-44c2-b757-9ee0eb29bc12",
   "metadata": {},
   "outputs": [],
   "source": [
    "# define a optimizer to be used when training\n",
    "optimizer = torch.optim.SGD(model.parameters(), lr=0.01) # where lr = learning rate"
   ]
  },
  {
   "cell_type": "code",
   "execution_count": 11,
   "id": "15e1cca8-1b1c-4cf0-a70c-874c9dd1fcae",
   "metadata": {},
   "outputs": [
    {
     "ename": "NameError",
     "evalue": "name 'x' is not defined",
     "output_type": "error",
     "traceback": [
      "\u001b[0;31m---------------------------------------------------------------------------\u001b[0m",
      "\u001b[0;31mNameError\u001b[0m                                 Traceback (most recent call last)",
      "Cell \u001b[0;32mIn[11], line 5\u001b[0m\n\u001b[1;32m      1\u001b[0m \u001b[38;5;66;03m# basic training loop\u001b[39;00m\n\u001b[1;32m      3\u001b[0m \u001b[38;5;28;01mfor\u001b[39;00m i \u001b[38;5;129;01min\u001b[39;00m \u001b[38;5;28mrange\u001b[39m(\u001b[38;5;241m100\u001b[39m):\n\u001b[1;32m      4\u001b[0m     \u001b[38;5;66;03m# call to the model to perform a prediction\u001b[39;00m\n\u001b[0;32m----> 5\u001b[0m     y_pred \u001b[38;5;241m=\u001b[39m model(\u001b[43mx\u001b[49m)\n\u001b[1;32m      6\u001b[0m     \u001b[38;5;66;03m#calculation of loss function\u001b[39;00m\n\u001b[1;32m      7\u001b[0m     loss \u001b[38;5;241m=\u001b[39m loss_funct(y_pred, y)\n",
      "\u001b[0;31mNameError\u001b[0m: name 'x' is not defined"
     ]
    }
   ],
   "source": [
    "# basic training loop\n",
    "# this code will not work because of stubbed values\n",
    "for i in range(100):\n",
    "    # call to the model to perform a prediction\n",
    "    y_pred = model(x)\n",
    "    #calculation of loss function\n",
    "    loss = loss_funct(y_pred, y)\n",
    "    # zero the gradients so that the previous ones don't accumulate\n",
    "    optimizer.zero_grad()\n",
    "    # calc the gradients of the loss function\n",
    "    loss.backward()\n",
    "    # call the optimizer to perform an update of the params\n",
    "    optimizer.step()"
   ]
  }
 ],
 "metadata": {
  "kernelspec": {
   "display_name": "Python 3 (ipykernel)",
   "language": "python",
   "name": "python3"
  },
  "language_info": {
   "codemirror_mode": {
    "name": "ipython",
    "version": 3
   },
   "file_extension": ".py",
   "mimetype": "text/x-python",
   "name": "python",
   "nbconvert_exporter": "python",
   "pygments_lexer": "ipython3",
   "version": "3.12.4"
  }
 },
 "nbformat": 4,
 "nbformat_minor": 5
}

{
 "cells": [
  {
   "cell_type": "code",
   "execution_count": 1,
   "id": "467b2e31-a24f-49e2-b633-79b175e11394",
   "metadata": {},
   "outputs": [],
   "source": [
    "import os\n",
    "import torch"
   ]
  },
  {
   "cell_type": "markdown",
   "id": "fce4fccf-0eb7-4f90-bb12-839504ba32d3",
   "metadata": {},
   "source": [
    "# Creating tensors\n",
    "\n",
    "Below we are creating three tensors of ranks 1, 2, and 3 respectively. "
   ]
  },
  {
   "cell_type": "code",
   "execution_count": 6,
   "id": "7d4f1ec4-f24a-4792-b1e1-1e3a6071195c",
   "metadata": {},
   "outputs": [],
   "source": [
    "tensor_1 = torch.tensor([0.1, 1, 0.9, 0.7, 0.3])\n",
    "tensor_2 = torch.tensor([[0.3,0,0.1,0.4],[1,0.8,0.6,0.4]])\n",
    "tensor_3 = torch.tensor([[[0.3,0.6],[1,0]],[[0.3,0.6],[0,1]]])"
   ]
  },
  {
   "cell_type": "code",
   "execution_count": 7,
   "id": "11d46a7b-38e7-4a9f-a03a-35ca6cce3f08",
   "metadata": {},
   "outputs": [
    {
     "name": "stdout",
     "output_type": "stream",
     "text": [
      "torch.Size([5])\n",
      "torch.Size([2, 4])\n",
      "torch.Size([2, 2, 2])\n"
     ]
    }
   ],
   "source": [
    "print(tensor_1.shape)\n",
    "print(tensor_2.shape)\n",
    "print(tensor_3.shape)"
   ]
  },
  {
   "cell_type": "code",
   "execution_count": 19,
   "id": "2e3a4ba2-b1a6-4bfd-8ddb-56b65ee5ffe7",
   "metadata": {},
   "outputs": [
    {
     "name": "stdout",
     "output_type": "stream",
     "text": [
      "None\n"
     ]
    }
   ],
   "source": [
    "# you must tell pytorch to setup gradient tracking when creating a tensor\n",
    "a = torch.tensor([5.0, 3.0], requires_grad = True)\n",
    "b = torch.tensor([1.0, 4.0])\n",
    "ab = ((a + b) ** 2).sum()\n",
    "grad = ab.backward()\n",
    "print(grad)"
   ]
  },
  {
   "cell_type": "code",
   "execution_count": 17,
   "id": "70808097-e413-45c1-a8d0-53c1256572d3",
   "metadata": {},
   "outputs": [
    {
     "name": "stdout",
     "output_type": "stream",
     "text": [
      "tensor([12., 14.])\n"
     ]
    }
   ],
   "source": [
    "print(a.grad.data)"
   ]
  },
  {
   "cell_type": "code",
   "execution_count": 20,
   "id": "491f2c3f-cfe0-4e7f-a6c8-025497362931",
   "metadata": {},
   "outputs": [
    {
     "ename": "AttributeError",
     "evalue": "'NoneType' object has no attribute 'data'",
     "output_type": "error",
     "traceback": [
      "\u001b[0;31m---------------------------------------------------------------------------\u001b[0m",
      "\u001b[0;31mAttributeError\u001b[0m                            Traceback (most recent call last)",
      "Cell \u001b[0;32mIn[20], line 1\u001b[0m\n\u001b[0;32m----> 1\u001b[0m \u001b[38;5;28mprint\u001b[39m(\u001b[43mb\u001b[49m\u001b[38;5;241;43m.\u001b[39;49m\u001b[43mgrad\u001b[49m\u001b[38;5;241;43m.\u001b[39;49m\u001b[43mdata\u001b[49m)\n",
      "\u001b[0;31mAttributeError\u001b[0m: 'NoneType' object has no attribute 'data'"
     ]
    }
   ],
   "source": [
    "print(b.grad.data)"
   ]
  }
 ],
 "metadata": {
  "kernelspec": {
   "display_name": "Python 3 (ipykernel)",
   "language": "python",
   "name": "python3"
  },
  "language_info": {
   "codemirror_mode": {
    "name": "ipython",
    "version": 3
   },
   "file_extension": ".py",
   "mimetype": "text/x-python",
   "name": "python",
   "nbconvert_exporter": "python",
   "pygments_lexer": "ipython3",
   "version": "3.12.4"
  }
 },
 "nbformat": 4,
 "nbformat_minor": 5
}

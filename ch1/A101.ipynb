{
 "cells": [
  {
   "cell_type": "markdown",
   "id": "6da7811d-e45f-45a1-a14f-ee7a633a4f7b",
   "metadata": {},
   "source": [
    "# Creating a single layer neural network"
   ]
  },
  {
   "cell_type": "markdown",
   "id": "1b1c76db-b83e-4d2b-850c-6f692d2daae1",
   "metadata": {},
   "source": [
    "We first need a dataset to iterate over. Let's use the happiness survey from UC Irvine"
   ]
  },
  {
   "cell_type": "code",
   "execution_count": 1,
   "id": "a65f2557-6511-4e42-991c-52c107f38672",
   "metadata": {},
   "outputs": [],
   "source": [
    "# import the required libraries, including pandas to read the csv\n",
    "import torch\n",
    "import torch.nn as nn\n",
    "import torch.optim as optim\n",
    "import matplotlib.pyplot as plt\n",
    "import pandas as pd\n",
    "import os"
   ]
  },
  {
   "cell_type": "markdown",
   "id": "2671c1d1-1a04-4d1e-9e63-2a9e9f68de12",
   "metadata": {},
   "source": [
    "read the csv into memory"
   ]
  },
  {
   "cell_type": "code",
   "execution_count": 2,
   "id": "825c4764-a53f-4b6a-ab96-e729d7801461",
   "metadata": {},
   "outputs": [],
   "source": [
    "data = pd.read_csv(\"./SomervilleHappinessSurvey2015.csv\")"
   ]
  },
  {
   "cell_type": "code",
   "execution_count": 4,
   "id": "8c6b5477-ed62-4e07-af6c-0df18a9fed97",
   "metadata": {},
   "outputs": [
    {
     "name": "stdout",
     "output_type": "stream",
     "text": [
      "torch.Size([143, 6])\n",
      "torch.Size([143, 1])\n"
     ]
    }
   ],
   "source": [
    "# seperate the target from the input features\n",
    "# the target is stored in the first column apparently\n",
    "df = pd.DataFrame(data)\n",
    "features = torch.tensor(df.iloc[:,1:].values).float()\n",
    "target = torch.tensor(df.iloc[:,:1].values).float()\n",
    "print(features.shape) # 6 is our input features for the model\n",
    "print(target.shape)   # 1 is our output_features for the model\n"
   ]
  },
  {
   "cell_type": "markdown",
   "id": "33f7d44f-2d8f-45c5-a283-833ff069fd3e",
   "metadata": {},
   "source": [
    "define the architecture of the model, and store in a variable named model"
   ]
  },
  {
   "cell_type": "markdown",
   "id": "ce885dd2-7a20-4557-ad13-ea8b2142624c",
   "metadata": {},
   "source": [
    "remember to create a single-layer model"
   ]
  },
  {
   "cell_type": "code",
   "execution_count": 62,
   "id": "0817ad53-6fe1-4564-92bd-7737072eea74",
   "metadata": {},
   "outputs": [],
   "source": [
    "# where sigmoid() is the activation function that gets applied to each iteration\n",
    "model = nn.Sequential(nn.Linear(6,1), nn.Sigmoid())"
   ]
  },
  {
   "cell_type": "code",
   "execution_count": 63,
   "id": "4454930b-0954-4046-b7ca-2adccc0b76b0",
   "metadata": {},
   "outputs": [],
   "source": [
    "# Mean Squared Error function (https://en.wikipedia.org/wiki/Mean_squared_error)\n",
    "loss_funct = nn.MSELoss()"
   ]
  },
  {
   "cell_type": "code",
   "execution_count": 64,
   "id": "3057191c-f849-4c05-8579-515aa0bf76a1",
   "metadata": {},
   "outputs": [],
   "source": [
    "opt = optim.Adam(model.parameters(), lr=0.01)"
   ]
  },
  {
   "cell_type": "code",
   "execution_count": 65,
   "id": "41563aac-d572-4a08-afe0-6f5d624b04c1",
   "metadata": {},
   "outputs": [
    {
     "name": "stdout",
     "output_type": "stream",
     "text": [
      "tensor(0.4127, grad_fn=<MseLossBackward0>)\n",
      "tensor(0.2677, grad_fn=<MseLossBackward0>)\n",
      "tensor(0.2740, grad_fn=<MseLossBackward0>)\n",
      "tensor(0.2664, grad_fn=<MseLossBackward0>)\n",
      "tensor(0.2607, grad_fn=<MseLossBackward0>)\n",
      "tensor(0.2584, grad_fn=<MseLossBackward0>)\n",
      "tensor(0.2561, grad_fn=<MseLossBackward0>)\n",
      "tensor(0.2539, grad_fn=<MseLossBackward0>)\n",
      "tensor(0.2518, grad_fn=<MseLossBackward0>)\n",
      "tensor(0.2500, grad_fn=<MseLossBackward0>)\n"
     ]
    }
   ],
   "source": [
    "losses = []\n",
    "for i in range(100):\n",
    "    # make prediction based on input features\n",
    "    y_pred = model(features)\n",
    "    # compare difference between prediction and target\n",
    "    loss = loss_funct(y_pred, target)\n",
    "    # track losses\n",
    "    losses.append(loss.item())\n",
    "    # zero out gradients so we don't cloud our data\n",
    "    opt.zero_grad()\n",
    "    # track gradients\n",
    "    loss.backward()\n",
    "    # optimize input parameters for next iteration\n",
    "    opt.step()\n",
    "    if i%10 == 0:\n",
    "        print(loss)"
   ]
  },
  {
   "cell_type": "code",
   "execution_count": 66,
   "id": "82748437-eeb6-4f1f-a21b-ffa90d11d95c",
   "metadata": {},
   "outputs": [
    {
     "data": {
      "image/png": "[encoded data removed]",
      "text/plain": [
       "<Figure size 640x480 with 1 Axes>"
      ]
     },
     "metadata": {},
     "output_type": "display_data"
    }
   ],
   "source": [
    "plt.plot(range(0,100), losses)\n",
    "plt.show()"
   ]
  }
 ],
 "metadata": {
  "kernelspec": {
   "display_name": "Python 3 (ipykernel)",
   "language": "python",
   "name": "python3"
  },
  "language_info": {
   "codemirror_mode": {
    "name": "ipython",
    "version": 3
   },
   "file_extension": ".py",
   "mimetype": "text/x-python",
   "name": "python",
   "nbconvert_exporter": "python",
   "pygments_lexer": "ipython3",
   "version": "3.12.4"
  }
 },
 "nbformat": 4,
 "nbformat_minor": 5
}

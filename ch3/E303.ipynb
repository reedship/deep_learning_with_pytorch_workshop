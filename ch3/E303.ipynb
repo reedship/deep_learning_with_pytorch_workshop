{
 "cells": [
  {
   "cell_type": "markdown",
   "id": "e82ecae9-3173-4949-aeea-786310ef606e",
   "metadata": {},
   "source": [
    "# Creating a web API\n",
    "\n",
    "we are going to create a basic API that receives some data, and returns a piece of text that we'll display in the browser."
   ]
  },
  {
   "cell_type": "code",
   "execution_count": 1,
   "id": "651a9737-0970-4799-bfae-ce73ca9df20f",
   "metadata": {},
   "outputs": [],
   "source": [
    "import flask\n",
    "from flask import request"
   ]
  },
  {
   "cell_type": "code",
   "execution_count": 3,
   "id": "3e20dd62-0dd3-4ff7-b316-3e0f34d376d4",
   "metadata": {},
   "outputs": [
    {
     "name": "stdout",
     "output_type": "stream",
     "text": [
      " * Serving Flask app '__main__'\n",
      " * Debug mode: on\n"
     ]
    },
    {
     "name": "stderr",
     "output_type": "stream",
     "text": [
      "\u001b[31m\u001b[1mWARNING: This is a development server. Do not use it in a production deployment. Use a production WSGI server instead.\u001b[0m\n",
      " * Running on http://127.0.0.1:5000\n",
      "\u001b[33mPress CTRL+C to quit\u001b[0m\n",
      "127.0.0.1 - - [29/Jul/2024 21:17:06] \"\u001b[33mGET / HTTP/1.1\u001b[0m\" 404 -\n",
      "127.0.0.1 - - [29/Jul/2024 21:17:06] \"GET /favicon.ico HTTP/1.1\" 200 -\n",
      "127.0.0.1 - - [29/Jul/2024 21:17:30] \"\u001b[33mGET / HTTP/1.1\u001b[0m\" 404 -\n",
      "127.0.0.1 - - [29/Jul/2024 21:17:30] \"GET /favicon.ico HTTP/1.1\" 200 -\n",
      "127.0.0.1 - - [29/Jul/2024 21:17:36] \"GET /reed HTTP/1.1\" 200 -\n"
     ]
    }
   ],
   "source": [
    "app = flask.Flask(__name__)\n",
    "app.config[\"DEBUG\"] = True\n",
    "@app.route('/<name>', methods=['GET'])\n",
    "\n",
    "def hello(name):\n",
    "    return \"<h1>HELLO {}</h1>\".format(name.upper())\n",
    "\n",
    "app.run(debug=True, use_reloader=False)"
   ]
  }
 ],
 "metadata": {
  "kernelspec": {
   "display_name": "Python 3 (ipykernel)",
   "language": "python",
   "name": "python3"
  },
  "language_info": {
   "codemirror_mode": {
    "name": "ipython",
    "version": 3
   },
   "file_extension": ".py",
   "mimetype": "text/x-python",
   "name": "python",
   "nbconvert_exporter": "python",
   "pygments_lexer": "ipython3",
   "version": "3.12.4"
  }
 },
 "nbformat": 4,
 "nbformat_minor": 5
}

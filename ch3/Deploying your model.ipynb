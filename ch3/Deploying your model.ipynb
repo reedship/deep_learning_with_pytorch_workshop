{
 "cells": [
  {
   "cell_type": "markdown",
   "id": "f6ceaf17-b119-498a-b956-a78a4191f76c",
   "metadata": {},
   "source": [
    "# Deploying your model\n",
    "\n",
    "The main goal of training a model is to be able to perform predictions on real world data, with the expectation that it will return similiar results to the training data.\n",
    "\n",
    "In small orgs, serialization and deserialization suffices for deploying a model (info on that [here](https://flynn.gg/blog/machine-learning-model-serialization)), however large orgs need to convert a model into a format that can be used in most production environments (an api, website, offline + online applications)."
   ]
  },
  {
   "cell_type": "markdown",
   "id": "4e231585-67fa-4539-acf8-b425ecfe7f22",
   "metadata": {},
   "source": [
    "Retraining a model everytime you need to use it is insane, so it's important to be able to save and load models. This is possible if the parameters (weights and biases) for each layer are saved into the `state_dict` dictionary"
   ]
  },
  {
   "cell_type": "markdown",
   "id": "6046095f-c3c9-4372-be8b-f1313e86792b",
   "metadata": {},
   "source": [
    "Here is some pseudocode of what saving a model would look like\n",
    "```python\n",
    "checkpoint = {\"input\": x_train.shape[1], \"state_dict\": model.state_dict()}\n",
    "```"
   ]
  },
  {
   "cell_type": "markdown",
   "id": "5de84d06-15ae-4346-897b-3302946298c6",
   "metadata": {},
   "source": [
    "Once you've saved a checkpoint, you can use pytorchs `save` function:\n",
    "\n",
    "```python\n",
    "torch.save(checkpoint, \"checkpoint.pth\")\n",
    "```"
   ]
  },
  {
   "cell_type": "markdown",
   "id": "1c43c4a9-de76-48a2-8cd9-7b8955d84185",
   "metadata": {},
   "source": [
    "You can create a python file that imports pytorch libraries and contains the class that creates the network architecture of your model. This way you can conveniently load the model into a new worksheet, seperating the instantiation from the training.\n",
    "\n",
    "To load the model, let's create a function that will perform three main actions.\n",
    "\n",
    "1. load a checkpoint\n",
    "2. load a model in a class\n",
    "3. load the `state_dict` of that model"
   ]
  },
  {
   "cell_type": "code",
   "execution_count": 2,
   "id": "126beb1c-5a74-4eec-8a97-1c26657956ee",
   "metadata": {},
   "outputs": [
    {
     "ename": "NameError",
     "evalue": "name 'torch' is not defined",
     "output_type": "error",
     "traceback": [
      "\u001b[0;31m---------------------------------------------------------------------------\u001b[0m",
      "\u001b[0;31mNameError\u001b[0m                                 Traceback (most recent call last)",
      "Cell \u001b[0;32mIn[2], line 10\u001b[0m\n\u001b[1;32m      8\u001b[0m     model\u001b[38;5;241m.\u001b[39mload_state_dict(checkpoint[\u001b[38;5;124m\"\u001b[39m\u001b[38;5;124mstate_dict\u001b[39m\u001b[38;5;124m\"\u001b[39m])\n\u001b[1;32m      9\u001b[0m     \u001b[38;5;28;01mreturn\u001b[39;00m model\n\u001b[0;32m---> 10\u001b[0m model \u001b[38;5;241m=\u001b[39m \u001b[43mload_model_checkpoint\u001b[49m\u001b[43m(\u001b[49m\u001b[38;5;124;43m\"\u001b[39;49m\u001b[38;5;124;43mcheckpoint.pth\u001b[39;49m\u001b[38;5;124;43m\"\u001b[39;49m\u001b[43m)\u001b[49m\n",
      "Cell \u001b[0;32mIn[2], line 3\u001b[0m, in \u001b[0;36mload_model_checkpoint\u001b[0;34m(path)\u001b[0m\n\u001b[1;32m      2\u001b[0m \u001b[38;5;28;01mdef\u001b[39;00m \u001b[38;5;21mload_model_checkpoint\u001b[39m(path):\n\u001b[0;32m----> 3\u001b[0m     checkpoint \u001b[38;5;241m=\u001b[39m \u001b[43mtorch\u001b[49m\u001b[38;5;241m.\u001b[39mload(path)\n\u001b[1;32m      4\u001b[0m     model \u001b[38;5;241m=\u001b[39m final_model\u001b[38;5;241m.\u001b[39mClassifier(\n\u001b[1;32m      5\u001b[0m         checkpoint[\u001b[38;5;124m\"\u001b[39m\u001b[38;5;124minput\u001b[39m\u001b[38;5;124m\"\u001b[39m],\n\u001b[1;32m      6\u001b[0m         checkpoint[\u001b[38;5;124m\"\u001b[39m\u001b[38;5;124moutput\u001b[39m\u001b[38;5;124m\"\u001b[39m],\n\u001b[1;32m      7\u001b[0m         checkpoint[\u001b[38;5;124m\"\u001b[39m\u001b[38;5;124mhidden\u001b[39m\u001b[38;5;124m\"\u001b[39m])\n\u001b[1;32m      8\u001b[0m     model\u001b[38;5;241m.\u001b[39mload_state_dict(checkpoint[\u001b[38;5;124m\"\u001b[39m\u001b[38;5;124mstate_dict\u001b[39m\u001b[38;5;124m\"\u001b[39m])\n",
      "\u001b[0;31mNameError\u001b[0m: name 'torch' is not defined"
     ]
    }
   ],
   "source": [
    "# here final_model is a local python file and .Classifier is a class stored in that file\n",
    "def load_model_checkpoint(path):\n",
    "    checkpoint = torch.load(path)\n",
    "    model = final_model.Classifier(\n",
    "        checkpoint[\"input\"],\n",
    "        checkpoint[\"output\"],\n",
    "        checkpoint[\"hidden\"])\n",
    "    model.load_state_dict(checkpoint[\"state_dict\"])\n",
    "    return model\n",
    "model = load_model_checkpoint(\"checkpoint.pth\")"
   ]
  },
  {
   "cell_type": "markdown",
   "id": "f02719c6-89bb-48f3-9112-62a27f6b9326",
   "metadata": {},
   "source": [
    "We can convert an existing pytorch model into a more efficient, production ready C++ model (Torchscript) with no python dependencies, using pytorchs `Just-In-Time` compiler module. You do this by passing your model, along with an example input, through the `torch.jit.trace` function.\n",
    "\n",
    "```python\n",
    "traced_script = torch.jit.trace(model, example)\n",
    "```\n",
    "\n",
    "Where model should contain the previously trained model, and `example` should contain the set of features you wish to feed your model in order to perform a prediction. This will return a script module, which can be used as a regular pytorch module.\n",
    "```python\n",
    "prediction = traced_script(input)\n",
    "```"
   ]
  }
 ],
 "metadata": {
  "kernelspec": {
   "display_name": "Python 3 (ipykernel)",
   "language": "python",
   "name": "python3"
  },
  "language_info": {
   "codemirror_mode": {
    "name": "ipython",
    "version": 3
   },
   "file_extension": ".py",
   "mimetype": "text/x-python",
   "name": "python",
   "nbconvert_exporter": "python",
   "pygments_lexer": "ipython3",
   "version": "3.12.4"
  }
 },
 "nbformat": 4,
 "nbformat_minor": 5
}

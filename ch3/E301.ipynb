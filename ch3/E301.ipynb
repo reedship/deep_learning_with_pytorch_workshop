{
 "cells": [
  {
   "cell_type": "markdown",
   "id": "1d52fc8e-9520-4c5a-8efa-a2ed663330cb",
   "metadata": {},
   "source": [
    "# Defining a Model's architecture using custom modules"
   ]
  },
  {
   "cell_type": "code",
   "execution_count": 1,
   "id": "e5bd134a-fda1-44dd-8371-d27f726a41e7",
   "metadata": {},
   "outputs": [],
   "source": [
    "import torch\n",
    "import torch.nn as nn\n",
    "import torch.functional as F"
   ]
  },
  {
   "cell_type": "code",
   "execution_count": 2,
   "id": "e32501bb-20e5-487d-becc-8e1b1917b09e",
   "metadata": {},
   "outputs": [],
   "source": [
    "# define variables for input, hidden, and output dimensions\n",
    "D_i = 10\n",
    "D_h = 5\n",
    "D_o = 2"
   ]
  },
  {
   "cell_type": "markdown",
   "id": "a4f47e3b-8c94-480e-a6a9-bb4596320821",
   "metadata": {},
   "source": [
    "Using pytorch's custom modules, create a class called `Classifier` and define the model's architecture so that it has two linear layers.\n",
    "\n",
    "The first one followed by a `ReLU` activation function, and the second one by a `Softmax` activation function."
   ]
  },
  {
   "cell_type": "code",
   "execution_count": 3,
   "id": "0734e3d4-a532-4482-b990-e6557df7caf8",
   "metadata": {},
   "outputs": [],
   "source": [
    "class Classifier(torch.nn.Module):\n",
    "    def __init__(self, D_i, D_h, D_o):\n",
    "        super(Classifier, self).__init__()\n",
    "        self.linear1 = torch.nn.Linear(D_i, D_h)\n",
    "        self.linear2 = torch.nn.Linear(D_h, D_o)\n",
    "    def forward(self, x):\n",
    "        z = F.relu(self.linear1(x))\n",
    "        o = F.softmax(self.linear2(z))\n",
    "        return o"
   ]
  },
  {
   "cell_type": "code",
   "execution_count": 4,
   "id": "28219b5a-5c9a-4c53-863e-f7f801ee7d3b",
   "metadata": {},
   "outputs": [
    {
     "name": "stdout",
     "output_type": "stream",
     "text": [
      "Classifier(\n",
      "  (linear1): Linear(in_features=10, out_features=5, bias=True)\n",
      "  (linear2): Linear(in_features=5, out_features=2, bias=True)\n",
      ")\n"
     ]
    }
   ],
   "source": [
    "# instantiate the class and feed it the three variables defined previously.\n",
    "model = Classifier(D_i, D_h, D_o)\n",
    "print(model)"
   ]
  }
 ],
 "metadata": {
  "kernelspec": {
   "display_name": "Python 3 (ipykernel)",
   "language": "python",
   "name": "python3"
  },
  "language_info": {
   "codemirror_mode": {
    "name": "ipython",
    "version": 3
   },
   "file_extension": ".py",
   "mimetype": "text/x-python",
   "name": "python",
   "nbconvert_exporter": "python",
   "pygments_lexer": "ipython3",
   "version": "3.12.4"
  }
 },
 "nbformat": 4,
 "nbformat_minor": 5
}
